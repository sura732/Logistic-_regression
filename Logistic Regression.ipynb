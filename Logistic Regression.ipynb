{
 "cells": [
  {
   "cell_type": "code",
   "execution_count": 3,
   "metadata": {},
   "outputs": [],
   "source": [
    "import pandas as pd\n",
    "import numpy as np\n",
    "import matplotlib.pyplot as plt\n",
    "import seaborn as sns"
   ]
  },
  {
   "cell_type": "code",
   "execution_count": 4,
   "metadata": {},
   "outputs": [],
   "source": [
    "df = pd.read_csv('F:\\ML_practice_dataset\\Bankruptcy_data.csv')"
   ]
  },
  {
   "cell_type": "code",
   "execution_count": 5,
   "metadata": {},
   "outputs": [
    {
     "data": {
      "text/plain": [
       "(36553, 66)"
      ]
     },
     "execution_count": 5,
     "metadata": {},
     "output_type": "execute_result"
    }
   ],
   "source": [
    "df.shape"
   ]
  },
  {
   "cell_type": "code",
   "execution_count": 6,
   "metadata": {},
   "outputs": [
    {
     "data": {
      "text/html": [
       "<div>\n",
       "<style scoped>\n",
       "    .dataframe tbody tr th:only-of-type {\n",
       "        vertical-align: middle;\n",
       "    }\n",
       "\n",
       "    .dataframe tbody tr th {\n",
       "        vertical-align: top;\n",
       "    }\n",
       "\n",
       "    .dataframe thead th {\n",
       "        text-align: right;\n",
       "    }\n",
       "</style>\n",
       "<table border=\"1\" class=\"dataframe\">\n",
       "  <thead>\n",
       "    <tr style=\"text-align: right;\">\n",
       "      <th></th>\n",
       "      <th>0</th>\n",
       "      <th>1</th>\n",
       "    </tr>\n",
       "  </thead>\n",
       "  <tbody>\n",
       "    <tr>\n",
       "      <th>ID</th>\n",
       "      <td>1.00000</td>\n",
       "      <td>2.000000</td>\n",
       "    </tr>\n",
       "    <tr>\n",
       "      <th>Attr1</th>\n",
       "      <td>0.13537</td>\n",
       "      <td>0.005861</td>\n",
       "    </tr>\n",
       "    <tr>\n",
       "      <th>Attr2</th>\n",
       "      <td>0.45185</td>\n",
       "      <td>0.398580</td>\n",
       "    </tr>\n",
       "    <tr>\n",
       "      <th>Attr3</th>\n",
       "      <td>0.31162</td>\n",
       "      <td>0.197680</td>\n",
       "    </tr>\n",
       "    <tr>\n",
       "      <th>Attr4</th>\n",
       "      <td>2.04690</td>\n",
       "      <td>1.939000</td>\n",
       "    </tr>\n",
       "    <tr>\n",
       "      <th>...</th>\n",
       "      <td>...</td>\n",
       "      <td>...</td>\n",
       "    </tr>\n",
       "    <tr>\n",
       "      <th>Attr61</th>\n",
       "      <td>8.83420</td>\n",
       "      <td>4.278500</td>\n",
       "    </tr>\n",
       "    <tr>\n",
       "      <th>Attr62</th>\n",
       "      <td>48.17200</td>\n",
       "      <td>78.499000</td>\n",
       "    </tr>\n",
       "    <tr>\n",
       "      <th>Attr63</th>\n",
       "      <td>7.57700</td>\n",
       "      <td>4.649700</td>\n",
       "    </tr>\n",
       "    <tr>\n",
       "      <th>Attr64</th>\n",
       "      <td>5.77250</td>\n",
       "      <td>1.653900</td>\n",
       "    </tr>\n",
       "    <tr>\n",
       "      <th>target</th>\n",
       "      <td>0.00000</td>\n",
       "      <td>0.000000</td>\n",
       "    </tr>\n",
       "  </tbody>\n",
       "</table>\n",
       "<p>66 rows × 2 columns</p>\n",
       "</div>"
      ],
      "text/plain": [
       "               0          1\n",
       "ID       1.00000   2.000000\n",
       "Attr1    0.13537   0.005861\n",
       "Attr2    0.45185   0.398580\n",
       "Attr3    0.31162   0.197680\n",
       "Attr4    2.04690   1.939000\n",
       "...          ...        ...\n",
       "Attr61   8.83420   4.278500\n",
       "Attr62  48.17200  78.499000\n",
       "Attr63   7.57700   4.649700\n",
       "Attr64   5.77250   1.653900\n",
       "target   0.00000   0.000000\n",
       "\n",
       "[66 rows x 2 columns]"
      ]
     },
     "execution_count": 6,
     "metadata": {},
     "output_type": "execute_result"
    }
   ],
   "source": [
    "df.head(2).T"
   ]
  },
  {
   "cell_type": "code",
   "execution_count": 7,
   "metadata": {},
   "outputs": [
    {
     "data": {
      "text/html": [
       "<div>\n",
       "<style scoped>\n",
       "    .dataframe tbody tr th:only-of-type {\n",
       "        vertical-align: middle;\n",
       "    }\n",
       "\n",
       "    .dataframe tbody tr th {\n",
       "        vertical-align: top;\n",
       "    }\n",
       "\n",
       "    .dataframe thead th {\n",
       "        text-align: right;\n",
       "    }\n",
       "</style>\n",
       "<table border=\"1\" class=\"dataframe\">\n",
       "  <thead>\n",
       "    <tr style=\"text-align: right;\">\n",
       "      <th></th>\n",
       "      <th>ID</th>\n",
       "      <th>Attr1</th>\n",
       "      <th>Attr2</th>\n",
       "      <th>Attr3</th>\n",
       "      <th>Attr4</th>\n",
       "      <th>Attr5</th>\n",
       "      <th>Attr6</th>\n",
       "      <th>Attr7</th>\n",
       "      <th>Attr8</th>\n",
       "      <th>Attr9</th>\n",
       "      <th>...</th>\n",
       "      <th>Attr56</th>\n",
       "      <th>Attr57</th>\n",
       "      <th>Attr58</th>\n",
       "      <th>Attr59</th>\n",
       "      <th>Attr60</th>\n",
       "      <th>Attr61</th>\n",
       "      <th>Attr62</th>\n",
       "      <th>Attr63</th>\n",
       "      <th>Attr64</th>\n",
       "      <th>target</th>\n",
       "    </tr>\n",
       "  </thead>\n",
       "  <tbody>\n",
       "    <tr>\n",
       "      <th>count</th>\n",
       "      <td>36553.000000</td>\n",
       "      <td>36545.000000</td>\n",
       "      <td>36545.000000</td>\n",
       "      <td>36545.000000</td>\n",
       "      <td>36442.000000</td>\n",
       "      <td>3.647700e+04</td>\n",
       "      <td>36545.000000</td>\n",
       "      <td>36545.000000</td>\n",
       "      <td>36474.000000</td>\n",
       "      <td>36546.000000</td>\n",
       "      <td>...</td>\n",
       "      <td>3.644000e+04</td>\n",
       "      <td>36546.000000</td>\n",
       "      <td>3.647700e+04</td>\n",
       "      <td>36546.000000</td>\n",
       "      <td>3.472000e+04</td>\n",
       "      <td>36467.000000</td>\n",
       "      <td>3.644000e+04</td>\n",
       "      <td>36442.000000</td>\n",
       "      <td>35859.000000</td>\n",
       "      <td>36553.000000</td>\n",
       "    </tr>\n",
       "    <tr>\n",
       "      <th>mean</th>\n",
       "      <td>18277.000000</td>\n",
       "      <td>0.051461</td>\n",
       "      <td>0.577743</td>\n",
       "      <td>0.127402</td>\n",
       "      <td>6.838949</td>\n",
       "      <td>-4.823320e+02</td>\n",
       "      <td>-0.030899</td>\n",
       "      <td>0.115142</td>\n",
       "      <td>12.906786</td>\n",
       "      <td>2.674919</td>\n",
       "      <td>...</td>\n",
       "      <td>-3.114462e+01</td>\n",
       "      <td>-0.017852</td>\n",
       "      <td>3.495525e+01</td>\n",
       "      <td>1.480542</td>\n",
       "      <td>4.820583e+02</td>\n",
       "      <td>17.681064</td>\n",
       "      <td>1.783960e+03</td>\n",
       "      <td>9.416529</td>\n",
       "      <td>77.345570</td>\n",
       "      <td>0.048286</td>\n",
       "    </tr>\n",
       "    <tr>\n",
       "      <th>std</th>\n",
       "      <td>10552.086531</td>\n",
       "      <td>1.670725</td>\n",
       "      <td>5.438081</td>\n",
       "      <td>4.917424</td>\n",
       "      <td>321.804895</td>\n",
       "      <td>6.617408e+04</td>\n",
       "      <td>6.518182</td>\n",
       "      <td>5.628794</td>\n",
       "      <td>520.063823</td>\n",
       "      <td>64.903626</td>\n",
       "      <td>...</td>\n",
       "      <td>5.806271e+03</td>\n",
       "      <td>14.507844</td>\n",
       "      <td>5.812797e+03</td>\n",
       "      <td>132.743470</td>\n",
       "      <td>3.509410e+04</td>\n",
       "      <td>600.955679</td>\n",
       "      <td>1.512356e+05</td>\n",
       "      <td>131.812478</td>\n",
       "      <td>2560.625896</td>\n",
       "      <td>0.214373</td>\n",
       "    </tr>\n",
       "    <tr>\n",
       "      <th>min</th>\n",
       "      <td>1.000000</td>\n",
       "      <td>-256.890000</td>\n",
       "      <td>-430.870000</td>\n",
       "      <td>-479.960000</td>\n",
       "      <td>-0.045319</td>\n",
       "      <td>-1.190300e+07</td>\n",
       "      <td>-508.410000</td>\n",
       "      <td>-517.480000</td>\n",
       "      <td>-141.410000</td>\n",
       "      <td>-3.496000</td>\n",
       "      <td>...</td>\n",
       "      <td>-1.108300e+06</td>\n",
       "      <td>-1667.300000</td>\n",
       "      <td>-1.986900e+02</td>\n",
       "      <td>-327.970000</td>\n",
       "      <td>-1.244000e+01</td>\n",
       "      <td>-12.656000</td>\n",
       "      <td>-1.496500e+04</td>\n",
       "      <td>-0.367890</td>\n",
       "      <td>-3.726500</td>\n",
       "      <td>0.000000</td>\n",
       "    </tr>\n",
       "    <tr>\n",
       "      <th>25%</th>\n",
       "      <td>9139.000000</td>\n",
       "      <td>0.003342</td>\n",
       "      <td>0.269610</td>\n",
       "      <td>0.022121</td>\n",
       "      <td>1.050625</td>\n",
       "      <td>-4.900900e+01</td>\n",
       "      <td>0.000000</td>\n",
       "      <td>0.005693</td>\n",
       "      <td>0.428970</td>\n",
       "      <td>1.018700</td>\n",
       "      <td>...</td>\n",
       "      <td>9.144250e-03</td>\n",
       "      <td>0.014675</td>\n",
       "      <td>8.751900e-01</td>\n",
       "      <td>0.000000</td>\n",
       "      <td>5.524575e+00</td>\n",
       "      <td>4.512200</td>\n",
       "      <td>4.212250e+01</td>\n",
       "      <td>3.098925</td>\n",
       "      <td>2.187150</td>\n",
       "      <td>0.000000</td>\n",
       "    </tr>\n",
       "    <tr>\n",
       "      <th>50%</th>\n",
       "      <td>18277.000000</td>\n",
       "      <td>0.049595</td>\n",
       "      <td>0.472550</td>\n",
       "      <td>0.197470</td>\n",
       "      <td>1.571500</td>\n",
       "      <td>-8.095900e-01</td>\n",
       "      <td>0.000000</td>\n",
       "      <td>0.059546</td>\n",
       "      <td>1.069300</td>\n",
       "      <td>1.199900</td>\n",
       "      <td>...</td>\n",
       "      <td>5.293650e-02</td>\n",
       "      <td>0.120480</td>\n",
       "      <td>9.508600e-01</td>\n",
       "      <td>0.005514</td>\n",
       "      <td>9.753600e+00</td>\n",
       "      <td>6.634200</td>\n",
       "      <td>7.141350e+01</td>\n",
       "      <td>5.078750</td>\n",
       "      <td>4.308900</td>\n",
       "      <td>0.000000</td>\n",
       "    </tr>\n",
       "    <tr>\n",
       "      <th>75%</th>\n",
       "      <td>27415.000000</td>\n",
       "      <td>0.130080</td>\n",
       "      <td>0.689240</td>\n",
       "      <td>0.404840</td>\n",
       "      <td>2.794200</td>\n",
       "      <td>5.104700e+01</td>\n",
       "      <td>0.086872</td>\n",
       "      <td>0.151670</td>\n",
       "      <td>2.606125</td>\n",
       "      <td>2.063000</td>\n",
       "      <td>...</td>\n",
       "      <td>1.294525e-01</td>\n",
       "      <td>0.286285</td>\n",
       "      <td>9.927100e-01</td>\n",
       "      <td>0.234970</td>\n",
       "      <td>2.016175e+01</td>\n",
       "      <td>10.379500</td>\n",
       "      <td>1.171925e+02</td>\n",
       "      <td>8.606525</td>\n",
       "      <td>9.788900</td>\n",
       "      <td>0.000000</td>\n",
       "    </tr>\n",
       "    <tr>\n",
       "      <th>max</th>\n",
       "      <td>36553.000000</td>\n",
       "      <td>94.280000</td>\n",
       "      <td>480.960000</td>\n",
       "      <td>28.336000</td>\n",
       "      <td>53433.000000</td>\n",
       "      <td>1.034100e+06</td>\n",
       "      <td>543.250000</td>\n",
       "      <td>649.230000</td>\n",
       "      <td>53432.000000</td>\n",
       "      <td>9742.300000</td>\n",
       "      <td>...</td>\n",
       "      <td>1.120200e+02</td>\n",
       "      <td>552.640000</td>\n",
       "      <td>1.108300e+06</td>\n",
       "      <td>23853.000000</td>\n",
       "      <td>4.818700e+06</td>\n",
       "      <td>108000.000000</td>\n",
       "      <td>2.501600e+07</td>\n",
       "      <td>23454.000000</td>\n",
       "      <td>294770.000000</td>\n",
       "      <td>1.000000</td>\n",
       "    </tr>\n",
       "  </tbody>\n",
       "</table>\n",
       "<p>8 rows × 66 columns</p>\n",
       "</div>"
      ],
      "text/plain": [
       "                 ID         Attr1         Attr2         Attr3         Attr4  \\\n",
       "count  36553.000000  36545.000000  36545.000000  36545.000000  36442.000000   \n",
       "mean   18277.000000      0.051461      0.577743      0.127402      6.838949   \n",
       "std    10552.086531      1.670725      5.438081      4.917424    321.804895   \n",
       "min        1.000000   -256.890000   -430.870000   -479.960000     -0.045319   \n",
       "25%     9139.000000      0.003342      0.269610      0.022121      1.050625   \n",
       "50%    18277.000000      0.049595      0.472550      0.197470      1.571500   \n",
       "75%    27415.000000      0.130080      0.689240      0.404840      2.794200   \n",
       "max    36553.000000     94.280000    480.960000     28.336000  53433.000000   \n",
       "\n",
       "              Attr5         Attr6         Attr7         Attr8         Attr9  \\\n",
       "count  3.647700e+04  36545.000000  36545.000000  36474.000000  36546.000000   \n",
       "mean  -4.823320e+02     -0.030899      0.115142     12.906786      2.674919   \n",
       "std    6.617408e+04      6.518182      5.628794    520.063823     64.903626   \n",
       "min   -1.190300e+07   -508.410000   -517.480000   -141.410000     -3.496000   \n",
       "25%   -4.900900e+01      0.000000      0.005693      0.428970      1.018700   \n",
       "50%   -8.095900e-01      0.000000      0.059546      1.069300      1.199900   \n",
       "75%    5.104700e+01      0.086872      0.151670      2.606125      2.063000   \n",
       "max    1.034100e+06    543.250000    649.230000  53432.000000   9742.300000   \n",
       "\n",
       "       ...        Attr56        Attr57        Attr58        Attr59  \\\n",
       "count  ...  3.644000e+04  36546.000000  3.647700e+04  36546.000000   \n",
       "mean   ... -3.114462e+01     -0.017852  3.495525e+01      1.480542   \n",
       "std    ...  5.806271e+03     14.507844  5.812797e+03    132.743470   \n",
       "min    ... -1.108300e+06  -1667.300000 -1.986900e+02   -327.970000   \n",
       "25%    ...  9.144250e-03      0.014675  8.751900e-01      0.000000   \n",
       "50%    ...  5.293650e-02      0.120480  9.508600e-01      0.005514   \n",
       "75%    ...  1.294525e-01      0.286285  9.927100e-01      0.234970   \n",
       "max    ...  1.120200e+02    552.640000  1.108300e+06  23853.000000   \n",
       "\n",
       "             Attr60         Attr61        Attr62        Attr63         Attr64  \\\n",
       "count  3.472000e+04   36467.000000  3.644000e+04  36442.000000   35859.000000   \n",
       "mean   4.820583e+02      17.681064  1.783960e+03      9.416529      77.345570   \n",
       "std    3.509410e+04     600.955679  1.512356e+05    131.812478    2560.625896   \n",
       "min   -1.244000e+01     -12.656000 -1.496500e+04     -0.367890      -3.726500   \n",
       "25%    5.524575e+00       4.512200  4.212250e+01      3.098925       2.187150   \n",
       "50%    9.753600e+00       6.634200  7.141350e+01      5.078750       4.308900   \n",
       "75%    2.016175e+01      10.379500  1.171925e+02      8.606525       9.788900   \n",
       "max    4.818700e+06  108000.000000  2.501600e+07  23454.000000  294770.000000   \n",
       "\n",
       "             target  \n",
       "count  36553.000000  \n",
       "mean       0.048286  \n",
       "std        0.214373  \n",
       "min        0.000000  \n",
       "25%        0.000000  \n",
       "50%        0.000000  \n",
       "75%        0.000000  \n",
       "max        1.000000  \n",
       "\n",
       "[8 rows x 66 columns]"
      ]
     },
     "execution_count": 7,
     "metadata": {},
     "output_type": "execute_result"
    }
   ],
   "source": [
    "df.describe()"
   ]
  },
  {
   "cell_type": "code",
   "execution_count": 8,
   "metadata": {
    "scrolled": false
   },
   "outputs": [
    {
     "name": "stdout",
     "output_type": "stream",
     "text": [
      "<class 'pandas.core.frame.DataFrame'>\n",
      "RangeIndex: 36553 entries, 0 to 36552\n",
      "Data columns (total 66 columns):\n",
      " #   Column  Non-Null Count  Dtype  \n",
      "---  ------  --------------  -----  \n",
      " 0   ID      36553 non-null  int64  \n",
      " 1   Attr1   36545 non-null  float64\n",
      " 2   Attr2   36545 non-null  float64\n",
      " 3   Attr3   36545 non-null  float64\n",
      " 4   Attr4   36442 non-null  float64\n",
      " 5   Attr5   36477 non-null  float64\n",
      " 6   Attr6   36545 non-null  float64\n",
      " 7   Attr7   36545 non-null  float64\n",
      " 8   Attr8   36474 non-null  float64\n",
      " 9   Attr9   36546 non-null  float64\n",
      " 10  Attr10  36545 non-null  float64\n",
      " 11  Attr11  36516 non-null  float64\n",
      " 12  Attr12  36442 non-null  float64\n",
      " 13  Attr13  36440 non-null  float64\n",
      " 14  Attr14  36545 non-null  float64\n",
      " 15  Attr15  36525 non-null  float64\n",
      " 16  Attr16  36473 non-null  float64\n",
      " 17  Attr17  36474 non-null  float64\n",
      " 18  Attr18  36545 non-null  float64\n",
      " 19  Attr19  36439 non-null  float64\n",
      " 20  Attr20  36440 non-null  float64\n",
      " 21  Attr21  31570 non-null  float64\n",
      " 22  Attr22  36545 non-null  float64\n",
      " 23  Attr23  36440 non-null  float64\n",
      " 24  Attr24  35759 non-null  float64\n",
      " 25  Attr25  36545 non-null  float64\n",
      " 26  Attr26  36473 non-null  float64\n",
      " 27  Attr27  34210 non-null  float64\n",
      " 28  Attr28  35859 non-null  float64\n",
      " 29  Attr29  36545 non-null  float64\n",
      " 30  Attr30  36440 non-null  float64\n",
      " 31  Attr31  36440 non-null  float64\n",
      " 32  Attr32  36241 non-null  float64\n",
      " 33  Attr33  36442 non-null  float64\n",
      " 34  Attr34  36474 non-null  float64\n",
      " 35  Attr35  36545 non-null  float64\n",
      " 36  Attr36  36545 non-null  float64\n",
      " 37  Attr37  20460 non-null  float64\n",
      " 38  Attr38  36545 non-null  float64\n",
      " 39  Attr39  36440 non-null  float64\n",
      " 40  Attr40  36442 non-null  float64\n",
      " 41  Attr41  35903 non-null  float64\n",
      " 42  Attr42  36440 non-null  float64\n",
      " 43  Attr43  36440 non-null  float64\n",
      " 44  Attr44  36440 non-null  float64\n",
      " 45  Attr45  34724 non-null  float64\n",
      " 46  Attr46  36441 non-null  float64\n",
      " 47  Attr47  36301 non-null  float64\n",
      " 48  Attr48  36544 non-null  float64\n",
      " 49  Attr49  36440 non-null  float64\n",
      " 50  Attr50  36474 non-null  float64\n",
      " 51  Attr51  36545 non-null  float64\n",
      " 52  Attr52  36297 non-null  float64\n",
      " 53  Attr53  35859 non-null  float64\n",
      " 54  Attr54  35859 non-null  float64\n",
      " 55  Attr55  36553 non-null  float64\n",
      " 56  Attr56  36440 non-null  float64\n",
      " 57  Attr57  36546 non-null  float64\n",
      " 58  Attr58  36477 non-null  float64\n",
      " 59  Attr59  36546 non-null  float64\n",
      " 60  Attr60  34720 non-null  float64\n",
      " 61  Attr61  36467 non-null  float64\n",
      " 62  Attr62  36440 non-null  float64\n",
      " 63  Attr63  36442 non-null  float64\n",
      " 64  Attr64  35859 non-null  float64\n",
      " 65  target  36553 non-null  int64  \n",
      "dtypes: float64(64), int64(2)\n",
      "memory usage: 18.4 MB\n"
     ]
    }
   ],
   "source": [
    "df.info()"
   ]
  },
  {
   "cell_type": "code",
   "execution_count": 9,
   "metadata": {},
   "outputs": [
    {
     "data": {
      "text/plain": [
       "ID          0\n",
       "Attr1       8\n",
       "Attr2       8\n",
       "Attr3       8\n",
       "Attr4     111\n",
       "         ... \n",
       "Attr61     86\n",
       "Attr62    113\n",
       "Attr63    111\n",
       "Attr64    694\n",
       "target      0\n",
       "Length: 66, dtype: int64"
      ]
     },
     "execution_count": 9,
     "metadata": {},
     "output_type": "execute_result"
    }
   ],
   "source": [
    "df.isnull().sum()"
   ]
  },
  {
   "cell_type": "code",
   "execution_count": 10,
   "metadata": {},
   "outputs": [
    {
     "data": {
      "text/plain": [
       "35187"
      ]
     },
     "execution_count": 10,
     "metadata": {},
     "output_type": "execute_result"
    }
   ],
   "source": [
    "df.isnull().sum().sum()"
   ]
  },
  {
   "cell_type": "code",
   "execution_count": 11,
   "metadata": {},
   "outputs": [],
   "source": [
    "df['Attr1'].fillna(np.mean(df['Attr1']), inplace = True)"
   ]
  },
  {
   "cell_type": "code",
   "execution_count": 12,
   "metadata": {},
   "outputs": [
    {
     "data": {
      "text/plain": [
       "0"
      ]
     },
     "execution_count": 12,
     "metadata": {},
     "output_type": "execute_result"
    }
   ],
   "source": [
    "df.Attr1.isnull().sum()"
   ]
  },
  {
   "cell_type": "markdown",
   "metadata": {},
   "source": [
    "# Central Imputation\n",
    "* Numerical Columns = Replaces the Missing Value with Mean\n",
    "* Categorical Columns = Replaces the Missing Value with Mode"
   ]
  },
  {
   "cell_type": "code",
   "execution_count": null,
   "metadata": {},
   "outputs": [],
   "source": [
    "from sklearn.impute import SimpleImputer\n",
    "impute = SimpleImputer()"
   ]
  },
  {
   "cell_type": "code",
   "execution_count": null,
   "metadata": {},
   "outputs": [],
   "source": [
    "df1 = pd.DataFrame(impute.fit_transform(df))\n",
    "df1.isnull().sum().sum()"
   ]
  },
  {
   "cell_type": "code",
   "execution_count": null,
   "metadata": {},
   "outputs": [],
   "source": [
    "df1.isnull().sum()"
   ]
  },
  {
   "cell_type": "code",
   "execution_count": null,
   "metadata": {},
   "outputs": [],
   "source": [
    "# Feature Engineering\n",
    "\n",
    "from sklearn.preprocessing import MinMaxScaler\n",
    "rangefn = MinMaxScaler()\n",
    "df2 = pd.DataFrame(rangefn.fit_transform(df1))"
   ]
  },
  {
   "cell_type": "markdown",
   "metadata": {},
   "source": [
    "# Independent  & Target Variables"
   ]
  },
  {
   "cell_type": "code",
   "execution_count": null,
   "metadata": {},
   "outputs": [],
   "source": [
    "x = df2.iloc[:, 1:-1]\n",
    "print('Independent Variables are:\\n', x.head(2))"
   ]
  },
  {
   "cell_type": "code",
   "execution_count": null,
   "metadata": {},
   "outputs": [],
   "source": [
    "y = df2.iloc[:, [-1]]\n",
    "print('Target Variable is:\\n', y.head(2))"
   ]
  },
  {
   "cell_type": "code",
   "execution_count": null,
   "metadata": {},
   "outputs": [],
   "source": [
    "y = np.ravel(y)"
   ]
  },
  {
   "cell_type": "code",
   "execution_count": null,
   "metadata": {},
   "outputs": [],
   "source": [
    "from sklearn.linear_model import LogisticRegression"
   ]
  },
  {
   "cell_type": "code",
   "execution_count": null,
   "metadata": {},
   "outputs": [],
   "source": [
    "log_reg = LogisticRegression()"
   ]
  },
  {
   "cell_type": "code",
   "execution_count": null,
   "metadata": {},
   "outputs": [],
   "source": [
    "model = log_reg.fit(x,y)"
   ]
  },
  {
   "cell_type": "code",
   "execution_count": null,
   "metadata": {},
   "outputs": [],
   "source": [
    "model.coef_"
   ]
  },
  {
   "cell_type": "code",
   "execution_count": null,
   "metadata": {},
   "outputs": [],
   "source": [
    "model.intercept_"
   ]
  },
  {
   "cell_type": "code",
   "execution_count": null,
   "metadata": {},
   "outputs": [],
   "source": [
    "y_hat = model.predict(x)\n",
    "y_hat"
   ]
  },
  {
   "cell_type": "code",
   "execution_count": null,
   "metadata": {},
   "outputs": [],
   "source": [
    "model.score(x,y)"
   ]
  },
  {
   "cell_type": "markdown",
   "metadata": {},
   "source": [
    "# Errors"
   ]
  },
  {
   "cell_type": "code",
   "execution_count": null,
   "metadata": {},
   "outputs": [],
   "source": [
    "from sklearn.metrics import confusion_matrix\n",
    "cm = confusion_matrix(y, y_hat)\n",
    "print(cm)"
   ]
  },
  {
   "cell_type": "code",
   "execution_count": null,
   "metadata": {},
   "outputs": [],
   "source": [
    "sns.heatmap(pd.DataFrame(cm), annot = True, fmt = 'g')\n",
    "plt.show()"
   ]
  },
  {
   "cell_type": "code",
   "execution_count": null,
   "metadata": {},
   "outputs": [],
   "source": [
    "from sklearn.metrics import classification_report\n",
    "print(classification_report(y, y_hat))"
   ]
  },
  {
   "cell_type": "markdown",
   "metadata": {},
   "source": [
    "# ROC and AUC\n",
    "* ROC = Receiver Operating Characteristics Curve\n",
    "* AUC = Area Under ROC Curve"
   ]
  },
  {
   "cell_type": "code",
   "execution_count": null,
   "metadata": {},
   "outputs": [],
   "source": [
    "from sklearn.metrics import roc_auc_score\n",
    "from sklearn.metrics import roc_curve"
   ]
  },
  {
   "cell_type": "code",
   "execution_count": null,
   "metadata": {},
   "outputs": [],
   "source": [
    "roc_score = roc_auc_score(y, model.predict(x))\n",
    "fpr, tpr, thresholds = roc_curve(y, model.predict_proba(x)[:,1])\n",
    "plt.figure(figsize = (15, 8))\n",
    "plt.plot(fpr, tpr, label = 'Logistic Regression (area = %0.2f)' % roc_score)\n",
    "plt.plot([0,1], [0,1], 'r--')\n",
    "plt.xlim([0.0, 1.0])\n",
    "plt.ylim([0.0, 1.0])\n",
    "plt.xlabel('False Positive Rate')\n",
    "plt.ylabel('True Positive Rate')\n",
    "plt.title('Receiver Operating Characteristics Curve')\n",
    "plt.legend(loc='lower right')\n",
    "plt.show()"
   ]
  },
  {
   "cell_type": "markdown",
   "metadata": {},
   "source": [
    "# KNN"
   ]
  },
  {
   "cell_type": "code",
   "execution_count": null,
   "metadata": {},
   "outputs": [],
   "source": [
    "df1 = pd.read_csv('F:\\ML_practice_dataset\\Bankruptcy_data.csv')"
   ]
  },
  {
   "cell_type": "code",
   "execution_count": null,
   "metadata": {},
   "outputs": [],
   "source": [
    "df1.head()"
   ]
  },
  {
   "cell_type": "code",
   "execution_count": null,
   "metadata": {},
   "outputs": [],
   "source": [
    "from sklearn.impute import SimpleImputer\n",
    "impute = SimpleImputer()"
   ]
  },
  {
   "cell_type": "code",
   "execution_count": null,
   "metadata": {},
   "outputs": [],
   "source": [
    "df1 = pd.DataFrame(impute.fit_transform(df))\n",
    "df1.isnull().sum().sum()"
   ]
  },
  {
   "cell_type": "code",
   "execution_count": null,
   "metadata": {},
   "outputs": [],
   "source": [
    "df1.isnull().sum()"
   ]
  },
  {
   "cell_type": "code",
   "execution_count": null,
   "metadata": {},
   "outputs": [],
   "source": [
    "from sklearn.preprocessing import StandardScaler"
   ]
  },
  {
   "cell_type": "code",
   "execution_count": null,
   "metadata": {},
   "outputs": [],
   "source": [
    "scaler = StandardScaler()"
   ]
  },
  {
   "cell_type": "code",
   "execution_count": null,
   "metadata": {},
   "outputs": [],
   "source": [
    "scaler.fit(df1.drop('target',axis=1))"
   ]
  },
  {
   "cell_type": "code",
   "execution_count": null,
   "metadata": {},
   "outputs": [],
   "source": [
    "scaled_features = scaler.transform(df1.drop('target',axis=1))"
   ]
  },
  {
   "cell_type": "code",
   "execution_count": null,
   "metadata": {},
   "outputs": [],
   "source": [
    "\n",
    "df_feat = pd.DataFrame(scaled_features,columns=df1.columns[:-1])\n",
    "df_feat.head()"
   ]
  },
  {
   "cell_type": "markdown",
   "metadata": {},
   "source": [
    "### Train test split"
   ]
  },
  {
   "cell_type": "code",
   "execution_count": null,
   "metadata": {},
   "outputs": [],
   "source": [
    "from sklearn.model_selection import train_test_split"
   ]
  },
  {
   "cell_type": "code",
   "execution_count": null,
   "metadata": {},
   "outputs": [],
   "source": [
    "X_train, X_test, y_train, y_test = train_test_split(scaled_features,df1['target'],\n",
    "                                                    test_size=0.30)"
   ]
  },
  {
   "cell_type": "markdown",
   "metadata": {},
   "source": [
    "Using KNN\n",
    "Remember that we are trying to come up with a model to predict whether someone will TARGET CLASS or not. We'll start with k=1."
   ]
  },
  {
   "cell_type": "code",
   "execution_count": null,
   "metadata": {},
   "outputs": [],
   "source": [
    "from sklearn.neighbors import KNeighborsClassifier"
   ]
  },
  {
   "cell_type": "code",
   "execution_count": null,
   "metadata": {},
   "outputs": [],
   "source": [
    "knn = KNeighborsClassifier(n_neighbors=1)"
   ]
  },
  {
   "cell_type": "code",
   "execution_count": null,
   "metadata": {},
   "outputs": [],
   "source": [
    "knn.fit(X_train,y_train)\n"
   ]
  },
  {
   "cell_type": "code",
   "execution_count": null,
   "metadata": {},
   "outputs": [],
   "source": []
  },
  {
   "cell_type": "code",
   "execution_count": null,
   "metadata": {},
   "outputs": [],
   "source": []
  },
  {
   "cell_type": "code",
   "execution_count": null,
   "metadata": {},
   "outputs": [],
   "source": []
  },
  {
   "cell_type": "code",
   "execution_count": null,
   "metadata": {},
   "outputs": [],
   "source": []
  }
 ],
 "metadata": {
  "kernelspec": {
   "display_name": "Python 3",
   "language": "python",
   "name": "python3"
  },
  "language_info": {
   "codemirror_mode": {
    "name": "ipython",
    "version": 3
   },
   "file_extension": ".py",
   "mimetype": "text/x-python",
   "name": "python",
   "nbconvert_exporter": "python",
   "pygments_lexer": "ipython3",
   "version": "3.8.8"
  }
 },
 "nbformat": 4,
 "nbformat_minor": 2
}
